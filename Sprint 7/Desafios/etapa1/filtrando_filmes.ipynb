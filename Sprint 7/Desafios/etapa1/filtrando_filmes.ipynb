{
 "cells": [
  {
   "cell_type": "code",
   "execution_count": 19,
   "metadata": {},
   "outputs": [],
   "source": [
    "import pandas as pd"
   ]
  },
  {
   "cell_type": "code",
   "execution_count": 20,
   "metadata": {},
   "outputs": [
    {
     "name": "stderr",
     "output_type": "stream",
     "text": [
      "C:\\Users\\Rafaela\\AppData\\Local\\Temp\\ipykernel_3728\\1147604721.py:2: DtypeWarning: Columns (3) have mixed types. Specify dtype option on import or set low_memory=False.\n",
      "  df = pd.read_csv('movies.csv', sep='|')\n"
     ]
    }
   ],
   "source": [
    "# Carregar o CSV\n",
    "df = pd.read_csv('movies.csv', sep='|')"
   ]
  },
  {
   "cell_type": "code",
   "execution_count": 21,
   "metadata": {},
   "outputs": [],
   "source": [
    "# 3. Filtrar filmes dos gêneros \"Drama\" e \"Romance\" (ajustando o filtro)\n",
    "df_filtrado = df[df['genero'] == 'Drama,Romance']\n"
   ]
  },
  {
   "cell_type": "code",
   "execution_count": 23,
   "metadata": {},
   "outputs": [
    {
     "name": "stdout",
     "output_type": "stream",
     "text": [
      "IDs dos 100 filmes selecionados (únicos): ['tt10356932' 'tt11644218' 'tt11656988' 'tt12498118' 'tt13231658'\n",
      " 'tt1740495' 'tt1935089' 'tt2186712' 'tt2245924' 'tt2270456' 'tt2385126'\n",
      " 'tt2515180' 'tt2547584' 'tt2674426' 'tt2707722' 'tt2787570' 'tt2931140'\n",
      " 'tt3215826' 'tt3227442' 'tt3312884' 'tt3344694' 'tt3517044' 'tt3526416'\n",
      " 'tt3530896' 'tt3530978' 'tt3548978' 'tt3581704' 'tt3584390' 'tt3675606'\n",
      " 'tt3722726' 'tt3766366' 'tt3777860' 'tt3794028' 'tt3794392' 'tt3797868'\n",
      " 'tt3840534' 'tt3920890' 'tt4024814' 'tt4047456' 'tt4061196' 'tt4109998'\n",
      " 'tt4113916' 'tt4116388' 'tt4126694' 'tt4171876' 'tt4179950' 'tt4188654'\n",
      " 'tt4193394' 'tt4262174' 'tt4262516' 'tt4291600' 'tt4305148' 'tt4327510'\n",
      " 'tt4331970' 'tt4332342' 'tt4385026' 'tt4399594' 'tt4439194' 'tt4446472'\n",
      " 'tt4462372' 'tt4495846' 'tt4551008' 'tt4568352' 'tt4579982' 'tt4581548'\n",
      " 'tt4613254' 'tt4625334' 'tt4641478' 'tt4655294' 'tt4682786' 'tt4726166'\n",
      " 'tt4746506' 'tt4805816' 'tt4828926' 'tt4837126' 'tt4842648' 'tt4842932'\n",
      " 'tt4874298' 'tt4898726' 'tt4921812' 'tt4932154' 'tt4937518' 'tt4988692'\n",
      " 'tt4996022' 'tt5002872' 'tt5011242' 'tt5011290' 'tt5012910' 'tt5025550'\n",
      " 'tt5069012' 'tt5073620' 'tt5082662' 'tt5096628' 'tt5108912' 'tt5112054'\n",
      " 'tt5123944' 'tt5143826' 'tt5152652' 'tt5159384' 'tt5160154']\n"
     ]
    }
   ],
   "source": [
    "if df_filtrado.empty:\n",
    "    print(\"Nenhum filme encontrado com os gêneros especificados.\")\n",
    "else:\n",
    "    # 4. Encontrar o ano com mais lançamentos\n",
    "    ano_mais_lancamentos = df_filtrado['anoLancamento'].value_counts().idxmax()\n",
    "\n",
    "    # 5. Filtrar filmes do ano com mais lançamentos\n",
    "    df_ano_filtrado = df_filtrado[df_filtrado['anoLancamento'] == ano_mais_lancamentos]\n",
    "\n",
    "    # Garantir que os IDs sejam únicos\n",
    "    ids_filmes_unicos = df_ano_filtrado['id'].unique()\n",
    "\n",
    "    # print(df_ano_filtrado)\n",
    "    \n",
    "    # 6. Exibir os IDs dos 100 filmes únicos selecionados\n",
    "    print(\"IDs dos 100 filmes selecionados (únicos):\", ids_filmes_unicos[:100])\n",
    "\n",
    "    # Opcional: salvar os IDs em um arquivo de texto\n",
    "    with open('ids_generos.txt', 'w') as f:\n",
    "        for id_filme in ids_filmes_unicos[:100]:\n",
    "            f.write(f'\"{id_filme}\",')\n",
    "\n",
    "    # Opcional: salvar em um arquivo CSV\n",
    "    df_ano_filtrado.to_csv('filtro_generos.csv', index=False)\n"
   ]
  }
 ],
 "metadata": {
  "kernelspec": {
   "display_name": "Python 3",
   "language": "python",
   "name": "python3"
  },
  "language_info": {
   "codemirror_mode": {
    "name": "ipython",
    "version": 3
   },
   "file_extension": ".py",
   "mimetype": "text/x-python",
   "name": "python",
   "nbconvert_exporter": "python",
   "pygments_lexer": "ipython3",
   "version": "3.13.1"
  }
 },
 "nbformat": 4,
 "nbformat_minor": 2
}
