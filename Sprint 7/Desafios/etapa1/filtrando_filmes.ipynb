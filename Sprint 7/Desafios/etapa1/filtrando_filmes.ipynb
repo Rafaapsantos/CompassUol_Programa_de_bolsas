{
 "cells": [
  {
   "cell_type": "code",
   "execution_count": 3,
   "metadata": {},
   "outputs": [],
   "source": [
    "import pandas as pd"
   ]
  },
  {
   "cell_type": "code",
   "execution_count": 4,
   "metadata": {},
   "outputs": [
    {
     "name": "stderr",
     "output_type": "stream",
     "text": [
      "C:\\Users\\rafae\\AppData\\Local\\Temp\\ipykernel_8100\\1147604721.py:2: DtypeWarning: Columns (3) have mixed types. Specify dtype option on import or set low_memory=False.\n",
      "  df = pd.read_csv('movies.csv', sep='|')\n"
     ]
    }
   ],
   "source": [
    "# Carregar o CSV\n",
    "df = pd.read_csv('movies.csv', sep='|')"
   ]
  },
  {
   "cell_type": "code",
   "execution_count": 5,
   "metadata": {},
   "outputs": [],
   "source": [
    "# 3. Filtrar filmes dos gêneros \"Drama\" e \"Romance\" (ajustando o filtro)\n",
    "df_filtrado = df[df['genero'] == 'Drama,Romance']\n"
   ]
  },
  {
   "cell_type": "code",
   "execution_count": 6,
   "metadata": {},
   "outputs": [],
   "source": [
    "# if df_filtrado.empty:\n",
    "#     print(\"Nenhum filme encontrado com os gêneros especificados.\")\n",
    "# else:\n",
    "#     # 4. Encontrar o ano com mais lançamentos\n",
    "#     ano_mais_lancamentos = df_filtrado['anoLancamento'].value_counts().idxmax()\n",
    "\n",
    "#     # 5. Filtrar filmes do ano com mais lançamentos\n",
    "#     df_ano_filtrado = df_filtrado[df_filtrado['anoLancamento'] == ano_mais_lancamentos]\n",
    "\n",
    "#     print(df_ano_filtrado)\n",
    "    \n",
    "#     # 5. Exibir os IDs dos 100 filmes selecionados\n",
    "#     ids_filmes = df_ano_filtrado['id'].tolist()\n",
    "#     print(\"IDs dos 100 filmes selecionados:\", ids_filmes)\n",
    "\n",
    "#     # # Opcional: salvar os IDs em um arquivo de texto\n",
    "#     # with open('ids_generos.txt', 'w') as f:\n",
    "#     #     for id_filme in ids_filmes:\n",
    "#     #         f.write(f'\"{id_filme}\",')\n",
    "\n",
    "\n",
    "#     # # Opcional: salvar em um arquivo CSV\n",
    "#     # df_ano_filtrado.to_csv('filtrogeneros.csv', index=False)"
   ]
  },
  {
   "cell_type": "code",
   "execution_count": 7,
   "metadata": {},
   "outputs": [
    {
     "name": "stdout",
     "output_type": "stream",
     "text": [
      "                 id                         tituloPincipal  \\\n",
      "585629   tt10356932  Jilbab Traveler: Love Sparks in Korea   \n",
      "585630   tt10356932  Jilbab Traveler: Love Sparks in Korea   \n",
      "585631   tt10356932  Jilbab Traveler: Love Sparks in Korea   \n",
      "585632   tt10356932  Jilbab Traveler: Love Sparks in Korea   \n",
      "619857   tt11644218                      London Love Story   \n",
      "...             ...                                    ...   \n",
      "1025565   tt8835590                           Love Hunting   \n",
      "1034600   tt9257662                          Morning Trail   \n",
      "1034601   tt9257662                          Morning Trail   \n",
      "1034602   tt9257662                          Morning Trail   \n",
      "1034603   tt9257662                          Morning Trail   \n",
      "\n",
      "                                tituloOriginal anoLancamento tempoMinutos  \\\n",
      "585629   Jilbab Traveler: Love Sparks in Korea          2016          112   \n",
      "585630   Jilbab Traveler: Love Sparks in Korea          2016          112   \n",
      "585631   Jilbab Traveler: Love Sparks in Korea          2016          112   \n",
      "585632   Jilbab Traveler: Love Sparks in Korea          2016          112   \n",
      "619857                       London Love Story          2016           89   \n",
      "...                                        ...           ...          ...   \n",
      "1025565                           Love Hunting          2016           83   \n",
      "1034600                         Holechet Shiva          2016           90   \n",
      "1034601                         Holechet Shiva          2016           90   \n",
      "1034602                         Holechet Shiva          2016           90   \n",
      "1034603                         Holechet Shiva          2016           90   \n",
      "\n",
      "                genero  notaMedia  numeroVotos generoArtista  \\\n",
      "585629   Drama,Romance        6.0           28         actor   \n",
      "585630   Drama,Romance        6.0           28         actor   \n",
      "585631   Drama,Romance        6.0           28       actress   \n",
      "585632   Drama,Romance        6.0           28         actor   \n",
      "619857   Drama,Romance        7.2           65       actress   \n",
      "...                ...        ...          ...           ...   \n",
      "1025565  Drama,Romance        6.8           20       actress   \n",
      "1034600  Drama,Romance        6.5            7       actress   \n",
      "1034601  Drama,Romance        6.5            7         actor   \n",
      "1034602  Drama,Romance        6.5            7       actress   \n",
      "1034603  Drama,Romance        6.5            7         actor   \n",
      "\n",
      "                 personagem          nomeArtista anoNascimento anoFalecimento  \\\n",
      "585629                Ilhan       Giring Ganesha            \\N             \\N   \n",
      "585630                Alvin   Ringgo Agus Rahman          1982             \\N   \n",
      "585631        Rania Samudra  Bunga Citra Lestari          1983             \\N   \n",
      "585632            Hyun Geun           Morgan Oey            \\N             \\N   \n",
      "619857              Caramel     Michelle Ziudith            \\N             \\N   \n",
      "...                     ...                  ...           ...            ...   \n",
      "1025565  Shang Guang Xue Er            Bohan Jin            \\N             \\N   \n",
      "1034600                Ella             Miki Kam          1955             \\N   \n",
      "1034601                Gabi         Robert Henig            \\N             \\N   \n",
      "1034602              Michal           Lior Bason            \\N             \\N   \n",
      "1034603                Amir           Omry Ashin            \\N             \\N   \n",
      "\n",
      "                           profissao  \\\n",
      "585629                         actor   \n",
      "585630                         actor   \n",
      "585631   actress,soundtrack,producer   \n",
      "585632              actor,soundtrack   \n",
      "619857            actress,soundtrack   \n",
      "...                              ...   \n",
      "1025565                      actress   \n",
      "1034600                      actress   \n",
      "1034601                        actor   \n",
      "1034602                      actress   \n",
      "1034603                        actor   \n",
      "\n",
      "                             titulosMaisConhecidos  \n",
      "585629              tt10356932,tt2455354,tt1748192  \n",
      "585630     tt7885874,tt1047634,tt1129952,tt2187578  \n",
      "585631     tt5514296,tt2589132,tt5946974,tt6825826  \n",
      "585632    tt14937912,tt8856944,tt5674378,tt6116856  \n",
      "619857   tt5785990,tt6486164,tt11708788,tt15724708  \n",
      "...                                            ...  \n",
      "1025565   tt8835580,tt22170804,tt8835722,tt8835590  \n",
      "1034600    tt0092678,tt9257662,tt0073052,tt0484339  \n",
      "1034601    tt9257662,tt0375058,tt9613332,tt5134724  \n",
      "1034602                                         \\N  \n",
      "1034603   tt1778854,tt11300390,tt9257662,tt5134724  \n",
      "\n",
      "[1010 rows x 15 columns]\n",
      "IDs dos 100 filmes selecionados (únicos): ['tt10356932' 'tt11644218' 'tt11656988' 'tt12498118' 'tt13231658'\n",
      " 'tt1740495' 'tt1935089' 'tt2186712' 'tt2245924' 'tt2270456' 'tt2385126'\n",
      " 'tt2515180' 'tt2547584' 'tt2674426' 'tt2707722' 'tt2787570' 'tt2931140'\n",
      " 'tt3215826' 'tt3227442' 'tt3312884' 'tt3344694' 'tt3517044' 'tt3526416'\n",
      " 'tt3530896' 'tt3530978' 'tt3548978' 'tt3581704' 'tt3584390' 'tt3675606'\n",
      " 'tt3722726' 'tt3766366' 'tt3777860' 'tt3794028' 'tt3794392' 'tt3797868'\n",
      " 'tt3840534' 'tt3920890' 'tt4024814' 'tt4047456' 'tt4061196' 'tt4109998'\n",
      " 'tt4113916' 'tt4116388' 'tt4126694' 'tt4171876' 'tt4179950' 'tt4188654'\n",
      " 'tt4193394' 'tt4262174' 'tt4262516' 'tt4291600' 'tt4305148' 'tt4327510'\n",
      " 'tt4331970' 'tt4332342' 'tt4385026' 'tt4399594' 'tt4439194' 'tt4446472'\n",
      " 'tt4462372' 'tt4495846' 'tt4551008' 'tt4568352' 'tt4579982' 'tt4581548'\n",
      " 'tt4613254' 'tt4625334' 'tt4641478' 'tt4655294' 'tt4682786' 'tt4726166'\n",
      " 'tt4746506' 'tt4805816' 'tt4828926' 'tt4837126' 'tt4842648' 'tt4842932'\n",
      " 'tt4874298' 'tt4898726' 'tt4921812' 'tt4932154' 'tt4937518' 'tt4988692'\n",
      " 'tt4996022' 'tt5002872' 'tt5011242' 'tt5011290' 'tt5012910' 'tt5025550'\n",
      " 'tt5069012' 'tt5073620' 'tt5082662' 'tt5096628' 'tt5108912' 'tt5112054'\n",
      " 'tt5123944' 'tt5143826' 'tt5152652' 'tt5159384' 'tt5160154']\n"
     ]
    }
   ],
   "source": [
    "if df_filtrado.empty:\n",
    "    print(\"Nenhum filme encontrado com os gêneros especificados.\")\n",
    "else:\n",
    "    # 4. Encontrar o ano com mais lançamentos\n",
    "    ano_mais_lancamentos = df_filtrado['anoLancamento'].value_counts().idxmax()\n",
    "\n",
    "    # 5. Filtrar filmes do ano com mais lançamentos\n",
    "    df_ano_filtrado = df_filtrado[df_filtrado['anoLancamento'] == ano_mais_lancamentos]\n",
    "\n",
    "    # Garantir que os IDs sejam únicos\n",
    "    ids_filmes_unicos = df_ano_filtrado['id'].unique()\n",
    "\n",
    "    print(df_ano_filtrado)\n",
    "    \n",
    "    # 6. Exibir os IDs dos 100 filmes únicos selecionados\n",
    "    print(\"IDs dos 100 filmes selecionados (únicos):\", ids_filmes_unicos[:100])\n",
    "\n",
    "    # Opcional: salvar os IDs em um arquivo de texto\n",
    "    with open('ids_generos.txt', 'w') as f:\n",
    "        for id_filme in ids_filmes_unicos[:100]:\n",
    "            f.write(f'\"{id_filme}\",')\n",
    "\n",
    "    # Opcional: salvar em um arquivo CSV\n",
    "    df_ano_filtrado.to_csv('filtrogeneros.csv', index=False)\n"
   ]
  }
 ],
 "metadata": {
  "kernelspec": {
   "display_name": "Python 3",
   "language": "python",
   "name": "python3"
  },
  "language_info": {
   "codemirror_mode": {
    "name": "ipython",
    "version": 3
   },
   "file_extension": ".py",
   "mimetype": "text/x-python",
   "name": "python",
   "nbconvert_exporter": "python",
   "pygments_lexer": "ipython3",
   "version": "3.13.1"
  }
 },
 "nbformat": 4,
 "nbformat_minor": 2
}
